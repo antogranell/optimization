{
 "cells": [
  {
   "cell_type": "code",
   "execution_count": 2,
   "metadata": {
    "collapsed": true
   },
   "outputs": [],
   "source": [
    "import pandas as pd\n",
    "import numpy as np\n",
    "import math\n",
    "import datetime as dt\n",
    "import sys\n",
    "import pyodbc\n",
    "import time\n",
    "\n",
    "import myfunctions as myf\n",
    "\n",
    "dloc = '//teams.deutsche-boerse.de@SSL/DavWWWRoot/sites/sp0056/WFT Data/2667/05_BT/01_calc_steps/'\n",
    "\n",
    "histloc = dloc + 'universe/01_gl1800.csv'\n",
    "\n",
    "creds = 'DRIVER={SQL Server};SERVER=delacroix.prod.ci.dom;DATABASE=qai;UID=stx-txg2a;PWD=stx-txg2a'\n",
    "con = pyodbc.connect(creds)\n",
    "\n",
    "\n",
    "def get_tr_series(ic, startdate, enddate, currency):\n",
    "    #startdate_ = startdate - dt.timedelta(days=15)\n",
    "    #startdate = startdate_ - dt.timedelta(days=(startdate_.day)) + dt.timedelta(days=1)\n",
    "\n",
    "    c = get_currency(ic, ic)\n",
    "    if (c == currency) or (currency == 'loc'):\n",
    "        sql = \"\"\"\n",
    "        SELECT MarketDate, RI\n",
    "        FROM DS2PrimQtRI\n",
    "        WHERE InfoCode = ?\n",
    "            AND MarketDate <= ?\n",
    "            AND MarketDate >= ?\n",
    "        \"\"\"\n",
    "        df = pd.read_sql(sql, con, index_col='MarketDate', params=[str(ic), str(enddate), str(startdate)])\n",
    "        df.columns = [ic]\n",
    "    else:\n",
    "        sql = \"\"\"\n",
    "        SELECT r.MarketDate, r.RI / fxr.MidRate\n",
    "        FROM DS2PrimQtRI r, DS2FXCode fxc, DS2FXRate fxr\n",
    "        WHERE fxc.FromCurrCode = ?\n",
    "            AND fxc.ToCurrCode = ?\n",
    "            AND fxc.RateTypeCode = 'SPOT'\n",
    "            AND fxr.ExRateIntCode = fxc.ExRateIntCode\n",
    "            AND fxr.ExRateDate = r.MarketDate\n",
    "            AND r.InfoCode = ?\n",
    "            AND r.MarketDate >= ?\n",
    "            AND r.MarketDate <= ?\n",
    "        \"\"\"\n",
    "        df = pd.read_sql(sql, con, index_col='MarketDate',\n",
    "                         params=[str(c), str(currency), str(ic), str(startdate), str(enddate)])\n",
    "        df.columns = [ic]\n",
    "    if c == 'GBP':\n",
    "        df = df / 100.\n",
    "    df.index.name = None\n",
    "    return df.sort_index()\n",
    "\n",
    "\n",
    "def get_pr_series(ic, startdate, enddate, currency):\n",
    "    startdate_ = startdate - dt.timedelta(days=15)\n",
    "    startdate = startdate_ - dt.timedelta(days=(startdate_.day)) + dt.timedelta(days=1)\n",
    "\n",
    "    c = get_currency(ic, ic)\n",
    "    if (c == currency) or (currency == 'loc'):\n",
    "        sql = \"\"\"\n",
    "        SELECT MarketDate, Close_\n",
    "        FROM DS2PrimQtPrc\n",
    "        WHERE InfoCode = ?\n",
    "            AND MarketDate <= ?\n",
    "            AND MarketDate >= ?\n",
    "        \"\"\"\n",
    "        df = pd.read_sql(sql, con, index_col='MarketDate', params=[str(ic), str(enddate), str(startdate)])\n",
    "        df.columns = [ic]\n",
    "    else:\n",
    "        sql = \"\"\"\n",
    "        SELECT r.MarketDate, r.Close_ / fxr.MidRate\n",
    "        FROM DS2PrimQtPrc r, DS2FXCode fxc, DS2FXRate fxr\n",
    "        WHERE fxc.FromCurrCode = ?\n",
    "            AND fxc.ToCurrCode = ?\n",
    "            AND fxc.RateTypeCode = 'SPOT'\n",
    "            AND fxr.ExRateIntCode = fxc.ExRateIntCode\n",
    "            AND fxr.ExRateDate = r.MarketDate\n",
    "            AND r.InfoCode = ?\n",
    "            AND r.MarketDate >= ?\n",
    "            AND r.MarketDate <= ?\n",
    "        \"\"\"\n",
    "        df = pd.read_sql(sql, con, index_col='MarketDate',\n",
    "                         params=[str(c), str(currency), str(ic), str(startdate), str(enddate)])\n",
    "        df.columns = [ic]\n",
    "    if c == 'GBP':\n",
    "        df = df / 100.\n",
    "    df.index.name = None\n",
    "    return df.sort_index()\n",
    "\n",
    "\n",
    "def get_moend_tr_series(ic, startdate, enddate, currency):\n",
    "    try:\n",
    "        df1 = get_tr_series(ic, startdate, enddate, currency)\n",
    "        dates = pd.DatetimeIndex(df1.index)\n",
    "        ismonthend = (dates.day[0:len(dates) - 1] > dates.day[1:len(dates)])\n",
    "        ismonthend = list(ismonthend)\n",
    "        ismonthend.append(True)\n",
    "        return df1[df1.index.isin(dates[ismonthend])]\n",
    "    except:\n",
    "        return np.nan\n",
    "\n",
    "\n",
    "def get_moend_pr_series(ic, startdate, enddate, currency):\n",
    "    try:\n",
    "        df1 = get_pr_series(ic, startdate, enddate, currency)\n",
    "        dates = pd.DatetimeIndex(df1.index)\n",
    "        ismonthend = (dates.day[0:len(dates) - 1] > dates.day[1:len(dates)])\n",
    "        ismonthend = list(ismonthend)\n",
    "        ismonthend.append(True)\n",
    "        return df1[df1.index.isin(dates[ismonthend])]\n",
    "    except:\n",
    "        return np.nan\n",
    "\n",
    "\n",
    "def get_currency(identifier, infoc=0):\n",
    "    try:\n",
    "        if infoc == 0:\n",
    "            ic = q.get_infocode(identifier)\n",
    "        elif infoc != 0:\n",
    "            ic = infoc\n",
    "\n",
    "        if np.isnan(int(ic)):\n",
    "            return np.nan\n",
    "        else:\n",
    "            sql = \"\"\"\n",
    "            SELECT PrimISOCurrCode\n",
    "            FROM Ds2CtryQtInfo\n",
    "            WHERE Infocode = ?\n",
    "            \"\"\"\n",
    "            res = pd.read_sql(sql, con, params=[str(ic)]).values\n",
    "            if len(res) > 0:\n",
    "                return res[0][0]\n",
    "            else:\n",
    "                return np.nan\n",
    "    except:\n",
    "        return np.nan\n",
    "\n",
    "\n",
    "def get_fxrate(fromcurr, tocurr, date):\n",
    "    \"\"\"Return exchange rate\n",
    "    Most recent if not available on date\n",
    "\n",
    "    Keyword arguements:\n",
    "    date -- (datetime.date)\n",
    "    fromcurr -- (string)\n",
    "    tocurr -- (string)\n",
    "    \"\"\"\n",
    "    if fromcurr == tocurr:\n",
    "        return 1\n",
    "    else:\n",
    "        sqlcode = \"\"\"\n",
    "        SELECT ExRateIntCode\n",
    "        FROM DS2FXCode\n",
    "        WHERE FromCurrCode = '%s'\n",
    "            AND ToCurrCode = '%s'\n",
    "            AND RateTypeCode = 'SPOT'\n",
    "        \"\"\" % (fromcurr, tocurr)\n",
    "        try:\n",
    "            exrateintcode = pd.io.sql.read_sql(sqlcode, con).loc[0, 'ExRateIntCode']\n",
    "        except:\n",
    "            return np.nan\n",
    "        sqlrate = \"\"\"\n",
    "        SELECT MidRate\n",
    "        FROM DS2FxRate\n",
    "        WHERE ExRateIntCode = '%s'\n",
    "            AND ExRateDate <= '%s'\n",
    "            ORDER BY ExRateDate DESC\n",
    "        \"\"\" % (str(exrateintcode), dt.date.strftime(date, '%Y-%m-%d'))\n",
    "        try:\n",
    "            return pd.io.sql.read_sql(sqlrate, con).loc[0, 'MidRate']\n",
    "        except:\n",
    "            return np.nan\n"
   ]
  },
  {
   "cell_type": "code",
   "execution_count": null,
   "metadata": {
    "collapsed": true
   },
   "outputs": [],
   "source": [
    "#create some selection and pull prices\n",
    "\n",
    "from pandas.tseries.offsets import BDay\n",
    "\n",
    "dfin = pd.read_csv(dloc + '04_Deka_Europe_Multi_Factor_weights_capped.csv', sep=';', dtype={'sedol': str})\n",
    "\n",
    "dfin['Date'] = pd.to_datetime(dfin['Date'], format='%Y-%m-%d', dayfirst=True)\n",
    "dfin['cutoff'] = pd.to_datetime(dfin['cutoff'], format='%Y-%m-%d', dayfirst=True)\n",
    "\n",
    "dfin['infocode'] = dfin['infocode'].fillna(0)\n",
    "dfin['infocode'] = dfin['infocode'].map(lambda x: int(x))\n",
    "\n",
    "dfin = dfin.sort_values(['Date', 'ffmcap'])\n",
    "\n",
    "#do a simple ranking to select\n",
    "rk = dfin.groupby('Date')['ffmcap'].rank(method='first', ascending=1, pct=False)\n",
    "dfin['rk'] = rk\n",
    "\n",
    "dfin = dfin[dfin.rk<=150].copy()\n",
    "#dfin.groupby('Date').count()['isin'].plot()\n",
    "\n",
    "dfin = dfin.reset_index(drop=True)\n",
    "#dfin = dfin[dfin.Date==dt.date(2017,9,18)][['Date','isin','name','country','sec_curr','ICB_ind','ICB_ind_name','infocode']].copy()\n",
    "dfin = dfin[['Date','isin','name','country','sec_curr','ICB_ind','ICB_ind_name','infocode']].copy()\n",
    "\n",
    "\n",
    "for d in dfin.Date.drop_duplicates():\n",
    "    print(d)\n",
    "    dfd = dfin[dfin.Date == d].reset_index(drop=True)\n",
    "    d1 = d - dt.timedelta(d.day-1)\n",
    "    d1 = d + dt.timedelta(days=1)\n",
    "    dto = d - dt.timedelta(d.day)\n",
    "    dfrom = myf.add_months(dto + dt.timedelta(1), -36) - BDay(1)\n",
    "\n",
    "    #dftr = pd.DataFrame()\n",
    "    #for ic in dfd.infocode:\n",
    "    #    print(ic, dto,dfrom)\n",
    "    #    dftemp = dkf.get_tr_series(ic, dfrom, dto, 'loc')\n",
    "    #    isin_ = dfd[dfd.infocode == ic].reset_index(drop=True).loc[0,'isin']\n",
    "    #    dftemp.columns = [isin_]\n",
    "    #    dftr = pd.concat([dftr, dftemp], axis=1)\n",
    "\n",
    "    dfd.to_csv(dkf.dloc + 'minvar/components/components_' + str(d)[:10] + '.csv', sep=';', index=False)\n",
    "    #dftr.to_csv(dkf.dloc + 'minvar/prices/prices_tr_' + str(d)[:10] + '.csv' ,sep=';',index=False)\n",
    "\n",
    "print(\"done\")"
   ]
  },
  {
   "cell_type": "code",
   "execution_count": null,
   "metadata": {
    "collapsed": true
   },
   "outputs": [],
   "source": []
  },
  {
   "cell_type": "code",
   "execution_count": 200,
   "metadata": {
    "collapsed": false
   },
   "outputs": [
    {
     "name": "stdout",
     "output_type": "stream",
     "text": [
      "2017-09-18\n",
      "done\n"
     ]
    }
   ],
   "source": [
    "#min var\n",
    "from scipy.optimize import minimize\n",
    "\n",
    "def port_var(w):\n",
    "    return np.dot(w,np.dot(covs,w))\n",
    "\n",
    "ind_max=0.2\n",
    "co_max=0.2\n",
    "w_max=0.08\n",
    "\n",
    "dfd = pd.read_csv(dloc + '03_Deka_Europe_Multi_Factor_adtv_v2.csv', sep=';')\n",
    "dfd['Date'] = pd.to_datetime(dfd['Date'], format='%d.%m.%Y', dayfirst=True)\n",
    "\n",
    "dfd = dfd[-1:].copy()\n",
    "\n",
    "for d in dfd['Date'].drop_duplicates():\n",
    "\n",
    "    dx = str(d)[:10]\n",
    "    print(dx)\n",
    "\n",
    "    dfcomp = pd.read_csv(dloc + 'minvar/components/components_' + dx + '.csv', sep=';')\n",
    "\n",
    "    dfpr = pd.read_csv(dloc + 'minvar/prices/prices_tr_'+ dx + '.csv', sep=';')\n",
    "    dfpr.fillna(method='pad', inplace=True)\n",
    "    dfpr.fillna(method='bfill', inplace=True)\n",
    "    \n",
    "    returns = np.array(dfpr.iloc[1:len(dfpr), 1:]) / np.array(dfpr.iloc[0:len(dfpr) - 1, 1:])\n",
    "    logreturns = [np.log((returns.T)[i]) for i in range(len(returns.T))]\n",
    "    covs = np.cov(logreturns)*252\n",
    "\n",
    "    n=len(covs)\n",
    "    b_ = [(0., w_max) for i in range(n)]\n",
    "    \n",
    "    cons = np.array([])\n",
    "    cons = np.append(cons, {'type': 'eq', 'fun': lambda w: sum(w) - 1.})\n",
    "    \n",
    "    #industry constraints\n",
    "    #https://stackoverflow.com/questions/45491376/scipy-optimization-not-running-when-i-try-to-set-constraints-using-a-for-loop/45493887#45493887\n",
    "    industryidx=list()\n",
    "    for i in np.unique(list(dfcomp.ICB_ind)):\n",
    "        industryidx.append(dfcomp[dfcomp.ICB_ind==i]['isin'].index)\n",
    "    \n",
    "    for ind in range(len(industryidx)):\n",
    "        con ={'type':'ineq', 'fun': lambda w, ind=ind: sum(w[industryidx[ind]])-ind_max}\n",
    "        cons = np.append(cons, con)\n",
    "    \n",
    "    #country constraint\n",
    "    countryidx=list()\n",
    "    for co in np.unique(list(dfcomp.country)):\n",
    "        countryidx.append(dfcomp[dfcomp.country==co]['isin'].index)\n",
    "    \n",
    "    for cntry in range(len(countryidx)):\n",
    "        con ={'type':'ineq', 'fun': lambda w, cntry=cntry: sum(w[countryidx[cntry]])-co_max}\n",
    "        cons = np.append(cons, con)\n",
    "\n",
    "    w0 = np.ones(n) / n\n",
    "\n",
    "    optiwgts = minimize(port_var, w0, method='SLSQP', bounds=b_, constraints=cons)\n",
    "    \n",
    "    dfcomp['weight'] = optiwgts.x\n",
    "    dfcomp.loc[dfcomp[dfcomp.weight<1e-05].index, 'weight'] = 0\n",
    "    \n",
    "    print('pf var - opti weight:', np.dot(optiwgts.x, np.dot(covs,optiwgts.x)))\n",
    "    print('pf var - equal weight:', np.dot(w0, np.dot(covs,w0)))\n",
    "\n",
    "#pd.DataFrame(returns).to_csv(dloc + 'minvar/returns.csv',sep=';')\n",
    "print('done')"
   ]
  },
  {
   "cell_type": "code",
   "execution_count": null,
   "metadata": {
    "collapsed": false
   },
   "outputs": [],
   "source": []
  },
  {
   "cell_type": "code",
   "execution_count": null,
   "metadata": {
    "collapsed": false
   },
   "outputs": [],
   "source": []
  },
  {
   "cell_type": "code",
   "execution_count": 201,
   "metadata": {
    "collapsed": false
   },
   "outputs": [
    {
     "data": {
      "text/plain": [
       "ICB_ind_name\n",
       "Financials            0.200000\n",
       "Industrials           0.193711\n",
       "Consumer Services     0.174843\n",
       "Health Care           0.086792\n",
       "Consumer Goods        0.080503\n",
       "Basic Materials       0.074214\n",
       "Oil & Gas             0.055346\n",
       "Technology            0.049057\n",
       "Utilities             0.042767\n",
       "Telecommunications    0.042767\n",
       "Name: weight, dtype: float64"
      ]
     },
     "execution_count": 201,
     "metadata": {},
     "output_type": "execute_result"
    }
   ],
   "source": [
    "dfcomp.groupby('ICB_ind_name').sum()['weight'].sort_values(ascending=False)"
   ]
  },
  {
   "cell_type": "code",
   "execution_count": 202,
   "metadata": {
    "collapsed": false
   },
   "outputs": [
    {
     "data": {
      "text/plain": [
       "country\n",
       "GB    0.200000\n",
       "DE    0.118239\n",
       "FR    0.118239\n",
       "SE    0.099371\n",
       "CH    0.074214\n",
       "IT    0.067925\n",
       "NL    0.055346\n",
       "DK    0.049057\n",
       "ES    0.049057\n",
       "BE    0.042767\n",
       "NO    0.036478\n",
       "FI    0.023899\n",
       "AT    0.023899\n",
       "CZ    0.023899\n",
       "LU    0.017610\n",
       "Name: weight, dtype: float64"
      ]
     },
     "execution_count": 202,
     "metadata": {},
     "output_type": "execute_result"
    }
   ],
   "source": [
    "dfcomp.groupby('country').sum()['weight'].sort_values(ascending=False)"
   ]
  },
  {
   "cell_type": "code",
   "execution_count": 203,
   "metadata": {
    "collapsed": false,
    "scrolled": true
   },
   "outputs": [
    {
     "data": {
      "text/plain": [
       "118    0.080000\n",
       "92     0.057725\n",
       "115    0.055346\n",
       "77     0.055346\n",
       "70     0.049057\n",
       "139    0.048634\n",
       "52     0.042767\n",
       "90     0.041460\n",
       "46     0.039078\n",
       "131    0.038239\n",
       "107    0.036478\n",
       "134    0.035568\n",
       "127    0.033248\n",
       "12     0.030215\n",
       "82     0.028988\n",
       "15     0.028164\n",
       "128    0.025157\n",
       "48     0.023914\n",
       "96     0.023899\n",
       "137    0.023899\n",
       "120    0.023899\n",
       "44     0.021874\n",
       "138    0.020893\n",
       "37     0.019508\n",
       "72     0.017610\n",
       "102    0.016625\n",
       "27     0.016611\n",
       "95     0.016604\n",
       "125    0.011815\n",
       "93     0.010818\n",
       "144    0.006835\n",
       "116    0.005186\n",
       "64     0.003690\n",
       "88     0.002986\n",
       "50     0.002939\n",
       "87     0.001629\n",
       "41     0.001596\n",
       "34     0.000999\n",
       "145    0.000702\n",
       "Name: weight, dtype: float64"
      ]
     },
     "execution_count": 203,
     "metadata": {},
     "output_type": "execute_result"
    }
   ],
   "source": [
    "dfcomp.loc[dfcomp[dfcomp.weight!=0].index, 'weight'].sort_values(ascending=False)"
   ]
  },
  {
   "cell_type": "code",
   "execution_count": null,
   "metadata": {
    "collapsed": false
   },
   "outputs": [],
   "source": []
  },
  {
   "cell_type": "code",
   "execution_count": 209,
   "metadata": {
    "collapsed": false
   },
   "outputs": [
    {
     "data": {
      "text/plain": [
       "0.3461071265718125"
      ]
     },
     "execution_count": 209,
     "metadata": {},
     "output_type": "execute_result"
    }
   ],
   "source": [
    "dfcomp.loc[dfcomp[dfcomp.weight>0.045].index, 'weight'].sum()"
   ]
  },
  {
   "cell_type": "code",
   "execution_count": 204,
   "metadata": {
    "collapsed": false
   },
   "outputs": [
    {
     "data": {
      "image/png": "[encoded data removed]",
      "text/plain": [
       "<matplotlib.figure.Figure at 0x1249eb70>"
      ]
     },
     "metadata": {},
     "output_type": "display_data"
    }
   ],
   "source": [
    "import matplotlib.pyplot as plt\n",
    "# the histogram of the data\n",
    "fin_decent_wgts = list(dfcomp.loc[dfcomp[dfcomp.weight!=0].index, 'weight'])\n",
    "n, bins, patches = plt.hist(fin_decent_wgts, 50, normed=1, facecolor='g', alpha=0.75)\n",
    "plt.show()"
   ]
  },
  {
   "cell_type": "code",
   "execution_count": null,
   "metadata": {
    "collapsed": false
   },
   "outputs": [],
   "source": []
  },
  {
   "cell_type": "code",
   "execution_count": 52,
   "metadata": {
    "collapsed": false
   },
   "outputs": [
    {
     "name": "stdout",
     "output_type": "stream",
     "text": [
      "2004-03-22\n",
      "2004-06-21\n"
     ]
    },
    {
     "name": "stderr",
     "output_type": "stream",
     "text": [
      "C:\\Users\\iv822\\AppData\\Local\\Continuum\\Anaconda3\\lib\\site-packages\\ipykernel\\__main__.py:54: SettingWithCopyWarning: \n",
      "A value is trying to be set on a copy of a slice from a DataFrame.\n",
      "Try using .loc[row_indexer,col_indexer] = value instead\n",
      "\n",
      "See the caveats in the documentation: http://pandas.pydata.org/pandas-docs/stable/indexing.html#indexing-view-versus-copy\n"
     ]
    },
    {
     "ename": "IndexError",
     "evalue": "index 431 is out of bounds for axis 1 with size 50",
     "output_type": "error",
     "traceback": [
      "\u001b[0;31m---------------------------------------------------------------------------\u001b[0m",
      "\u001b[0;31mIndexError\u001b[0m                                Traceback (most recent call last)",
      "\u001b[0;32m<ipython-input-52-b41264be7ac1>\u001b[0m in \u001b[0;36m<module>\u001b[0;34m()\u001b[0m\n\u001b[1;32m     50\u001b[0m     \u001b[0mw0\u001b[0m \u001b[1;33m=\u001b[0m \u001b[0mnp\u001b[0m\u001b[1;33m.\u001b[0m\u001b[0marray\u001b[0m\u001b[1;33m(\u001b[0m\u001b[0mdfcomp\u001b[0m\u001b[1;33m[\u001b[0m\u001b[1;34m'weight'\u001b[0m\u001b[1;33m]\u001b[0m\u001b[1;33m)\u001b[0m\u001b[1;33m\u001b[0m\u001b[0m\n\u001b[1;32m     51\u001b[0m \u001b[1;33m\u001b[0m\u001b[0m\n\u001b[0;32m---> 52\u001b[0;31m     \u001b[0moptiwgts\u001b[0m \u001b[1;33m=\u001b[0m \u001b[0mminimize\u001b[0m\u001b[1;33m(\u001b[0m\u001b[0mport_dummy\u001b[0m\u001b[1;33m,\u001b[0m \u001b[0mw0\u001b[0m\u001b[1;33m,\u001b[0m \u001b[0mmethod\u001b[0m\u001b[1;33m=\u001b[0m\u001b[1;34m'SLSQP'\u001b[0m\u001b[1;33m,\u001b[0m \u001b[0mbounds\u001b[0m\u001b[1;33m=\u001b[0m\u001b[0mb_\u001b[0m\u001b[1;33m,\u001b[0m \u001b[0mconstraints\u001b[0m\u001b[1;33m=\u001b[0m\u001b[0mcons\u001b[0m\u001b[1;33m)\u001b[0m\u001b[1;33m\u001b[0m\u001b[0m\n\u001b[0m\u001b[1;32m     53\u001b[0m \u001b[1;33m\u001b[0m\u001b[0m\n\u001b[1;32m     54\u001b[0m     \u001b[0mdfcomp\u001b[0m\u001b[1;33m[\u001b[0m\u001b[1;34m'weight_optimised'\u001b[0m\u001b[1;33m]\u001b[0m \u001b[1;33m=\u001b[0m \u001b[0moptiwgts\u001b[0m\u001b[1;33m.\u001b[0m\u001b[0mx\u001b[0m\u001b[1;33m\u001b[0m\u001b[0m\n",
      "\u001b[0;32mC:\\Users\\iv822\\AppData\\Local\\Continuum\\Anaconda3\\lib\\site-packages\\scipy\\optimize\\_minimize.py\u001b[0m in \u001b[0;36mminimize\u001b[0;34m(fun, x0, args, method, jac, hess, hessp, bounds, constraints, tol, callback, options)\u001b[0m\n\u001b[1;32m    456\u001b[0m     \u001b[1;32melif\u001b[0m \u001b[0mmeth\u001b[0m \u001b[1;33m==\u001b[0m \u001b[1;34m'slsqp'\u001b[0m\u001b[1;33m:\u001b[0m\u001b[1;33m\u001b[0m\u001b[0m\n\u001b[1;32m    457\u001b[0m         return _minimize_slsqp(fun, x0, args, jac, bounds,\n\u001b[0;32m--> 458\u001b[0;31m                                constraints, callback=callback, **options)\n\u001b[0m\u001b[1;32m    459\u001b[0m     \u001b[1;32melif\u001b[0m \u001b[0mmeth\u001b[0m \u001b[1;33m==\u001b[0m \u001b[1;34m'dogleg'\u001b[0m\u001b[1;33m:\u001b[0m\u001b[1;33m\u001b[0m\u001b[0m\n\u001b[1;32m    460\u001b[0m         return _minimize_dogleg(fun, x0, args, jac, hess,\n",
      "\u001b[0;32mC:\\Users\\iv822\\AppData\\Local\\Continuum\\Anaconda3\\lib\\site-packages\\scipy\\optimize\\slsqp.py\u001b[0m in \u001b[0;36m_minimize_slsqp\u001b[0;34m(func, x0, args, jac, bounds, constraints, maxiter, ftol, iprint, disp, eps, callback, **unknown_options)\u001b[0m\n\u001b[1;32m    310\u001b[0m     \u001b[1;31m# meq, mieq: number of equality and inequality constraints\u001b[0m\u001b[1;33m\u001b[0m\u001b[1;33m\u001b[0m\u001b[0m\n\u001b[1;32m    311\u001b[0m     \u001b[0mmeq\u001b[0m \u001b[1;33m=\u001b[0m \u001b[0msum\u001b[0m\u001b[1;33m(\u001b[0m\u001b[0mmap\u001b[0m\u001b[1;33m(\u001b[0m\u001b[0mlen\u001b[0m\u001b[1;33m,\u001b[0m \u001b[1;33m[\u001b[0m\u001b[0matleast_1d\u001b[0m\u001b[1;33m(\u001b[0m\u001b[0mc\u001b[0m\u001b[1;33m[\u001b[0m\u001b[1;34m'fun'\u001b[0m\u001b[1;33m]\u001b[0m\u001b[1;33m(\u001b[0m\u001b[0mx\u001b[0m\u001b[1;33m,\u001b[0m \u001b[1;33m*\u001b[0m\u001b[0mc\u001b[0m\u001b[1;33m[\u001b[0m\u001b[1;34m'args'\u001b[0m\u001b[1;33m]\u001b[0m\u001b[1;33m)\u001b[0m\u001b[1;33m)\u001b[0m \u001b[1;32mfor\u001b[0m \u001b[0mc\u001b[0m \u001b[1;32min\u001b[0m \u001b[0mcons\u001b[0m\u001b[1;33m[\u001b[0m\u001b[1;34m'eq'\u001b[0m\u001b[1;33m]\u001b[0m\u001b[1;33m]\u001b[0m\u001b[1;33m)\u001b[0m\u001b[1;33m)\u001b[0m\u001b[1;33m\u001b[0m\u001b[0m\n\u001b[0;32m--> 312\u001b[0;31m     \u001b[0mmieq\u001b[0m \u001b[1;33m=\u001b[0m \u001b[0msum\u001b[0m\u001b[1;33m(\u001b[0m\u001b[0mmap\u001b[0m\u001b[1;33m(\u001b[0m\u001b[0mlen\u001b[0m\u001b[1;33m,\u001b[0m \u001b[1;33m[\u001b[0m\u001b[0matleast_1d\u001b[0m\u001b[1;33m(\u001b[0m\u001b[0mc\u001b[0m\u001b[1;33m[\u001b[0m\u001b[1;34m'fun'\u001b[0m\u001b[1;33m]\u001b[0m\u001b[1;33m(\u001b[0m\u001b[0mx\u001b[0m\u001b[1;33m,\u001b[0m \u001b[1;33m*\u001b[0m\u001b[0mc\u001b[0m\u001b[1;33m[\u001b[0m\u001b[1;34m'args'\u001b[0m\u001b[1;33m]\u001b[0m\u001b[1;33m)\u001b[0m\u001b[1;33m)\u001b[0m \u001b[1;32mfor\u001b[0m \u001b[0mc\u001b[0m \u001b[1;32min\u001b[0m \u001b[0mcons\u001b[0m\u001b[1;33m[\u001b[0m\u001b[1;34m'ineq'\u001b[0m\u001b[1;33m]\u001b[0m\u001b[1;33m]\u001b[0m\u001b[1;33m)\u001b[0m\u001b[1;33m)\u001b[0m\u001b[1;33m\u001b[0m\u001b[0m\n\u001b[0m\u001b[1;32m    313\u001b[0m     \u001b[1;31m# m = The total number of constraints\u001b[0m\u001b[1;33m\u001b[0m\u001b[1;33m\u001b[0m\u001b[0m\n\u001b[1;32m    314\u001b[0m     \u001b[0mm\u001b[0m \u001b[1;33m=\u001b[0m \u001b[0mmeq\u001b[0m \u001b[1;33m+\u001b[0m \u001b[0mmieq\u001b[0m\u001b[1;33m\u001b[0m\u001b[0m\n",
      "\u001b[0;32mC:\\Users\\iv822\\AppData\\Local\\Continuum\\Anaconda3\\lib\\site-packages\\scipy\\optimize\\slsqp.py\u001b[0m in \u001b[0;36m<listcomp>\u001b[0;34m(.0)\u001b[0m\n\u001b[1;32m    310\u001b[0m     \u001b[1;31m# meq, mieq: number of equality and inequality constraints\u001b[0m\u001b[1;33m\u001b[0m\u001b[1;33m\u001b[0m\u001b[0m\n\u001b[1;32m    311\u001b[0m     \u001b[0mmeq\u001b[0m \u001b[1;33m=\u001b[0m \u001b[0msum\u001b[0m\u001b[1;33m(\u001b[0m\u001b[0mmap\u001b[0m\u001b[1;33m(\u001b[0m\u001b[0mlen\u001b[0m\u001b[1;33m,\u001b[0m \u001b[1;33m[\u001b[0m\u001b[0matleast_1d\u001b[0m\u001b[1;33m(\u001b[0m\u001b[0mc\u001b[0m\u001b[1;33m[\u001b[0m\u001b[1;34m'fun'\u001b[0m\u001b[1;33m]\u001b[0m\u001b[1;33m(\u001b[0m\u001b[0mx\u001b[0m\u001b[1;33m,\u001b[0m \u001b[1;33m*\u001b[0m\u001b[0mc\u001b[0m\u001b[1;33m[\u001b[0m\u001b[1;34m'args'\u001b[0m\u001b[1;33m]\u001b[0m\u001b[1;33m)\u001b[0m\u001b[1;33m)\u001b[0m \u001b[1;32mfor\u001b[0m \u001b[0mc\u001b[0m \u001b[1;32min\u001b[0m \u001b[0mcons\u001b[0m\u001b[1;33m[\u001b[0m\u001b[1;34m'eq'\u001b[0m\u001b[1;33m]\u001b[0m\u001b[1;33m]\u001b[0m\u001b[1;33m)\u001b[0m\u001b[1;33m)\u001b[0m\u001b[1;33m\u001b[0m\u001b[0m\n\u001b[0;32m--> 312\u001b[0;31m     \u001b[0mmieq\u001b[0m \u001b[1;33m=\u001b[0m \u001b[0msum\u001b[0m\u001b[1;33m(\u001b[0m\u001b[0mmap\u001b[0m\u001b[1;33m(\u001b[0m\u001b[0mlen\u001b[0m\u001b[1;33m,\u001b[0m \u001b[1;33m[\u001b[0m\u001b[0matleast_1d\u001b[0m\u001b[1;33m(\u001b[0m\u001b[0mc\u001b[0m\u001b[1;33m[\u001b[0m\u001b[1;34m'fun'\u001b[0m\u001b[1;33m]\u001b[0m\u001b[1;33m(\u001b[0m\u001b[0mx\u001b[0m\u001b[1;33m,\u001b[0m \u001b[1;33m*\u001b[0m\u001b[0mc\u001b[0m\u001b[1;33m[\u001b[0m\u001b[1;34m'args'\u001b[0m\u001b[1;33m]\u001b[0m\u001b[1;33m)\u001b[0m\u001b[1;33m)\u001b[0m \u001b[1;32mfor\u001b[0m \u001b[0mc\u001b[0m \u001b[1;32min\u001b[0m \u001b[0mcons\u001b[0m\u001b[1;33m[\u001b[0m\u001b[1;34m'ineq'\u001b[0m\u001b[1;33m]\u001b[0m\u001b[1;33m]\u001b[0m\u001b[1;33m)\u001b[0m\u001b[1;33m)\u001b[0m\u001b[1;33m\u001b[0m\u001b[0m\n\u001b[0m\u001b[1;32m    313\u001b[0m     \u001b[1;31m# m = The total number of constraints\u001b[0m\u001b[1;33m\u001b[0m\u001b[1;33m\u001b[0m\u001b[0m\n\u001b[1;32m    314\u001b[0m     \u001b[0mm\u001b[0m \u001b[1;33m=\u001b[0m \u001b[0mmeq\u001b[0m \u001b[1;33m+\u001b[0m \u001b[0mmieq\u001b[0m\u001b[1;33m\u001b[0m\u001b[0m\n",
      "\u001b[0;32m<ipython-input-52-b41264be7ac1>\u001b[0m in \u001b[0;36m<lambda>\u001b[0;34m(w, ind)\u001b[0m\n\u001b[1;32m     35\u001b[0m \u001b[1;33m\u001b[0m\u001b[0m\n\u001b[1;32m     36\u001b[0m     \u001b[1;32mfor\u001b[0m \u001b[0mind\u001b[0m \u001b[1;32min\u001b[0m \u001b[0mrange\u001b[0m\u001b[1;33m(\u001b[0m\u001b[0mlen\u001b[0m\u001b[1;33m(\u001b[0m\u001b[0mindustryidx\u001b[0m\u001b[1;33m)\u001b[0m\u001b[1;33m)\u001b[0m\u001b[1;33m:\u001b[0m\u001b[1;33m\u001b[0m\u001b[0m\n\u001b[0;32m---> 37\u001b[0;31m         \u001b[0mcon\u001b[0m \u001b[1;33m=\u001b[0m\u001b[1;33m{\u001b[0m\u001b[1;34m'type'\u001b[0m\u001b[1;33m:\u001b[0m\u001b[1;34m'ineq'\u001b[0m\u001b[1;33m,\u001b[0m \u001b[1;34m'fun'\u001b[0m\u001b[1;33m:\u001b[0m \u001b[1;32mlambda\u001b[0m \u001b[0mw\u001b[0m\u001b[1;33m,\u001b[0m \u001b[0mind\u001b[0m\u001b[1;33m=\u001b[0m\u001b[0mind\u001b[0m\u001b[1;33m:\u001b[0m \u001b[0msum\u001b[0m\u001b[1;33m(\u001b[0m\u001b[0mw\u001b[0m\u001b[1;33m[\u001b[0m\u001b[0mindustryidx\u001b[0m\u001b[1;33m[\u001b[0m\u001b[0mind\u001b[0m\u001b[1;33m]\u001b[0m\u001b[1;33m]\u001b[0m\u001b[1;33m)\u001b[0m\u001b[1;33m-\u001b[0m\u001b[0mind_max\u001b[0m\u001b[1;33m}\u001b[0m\u001b[1;33m\u001b[0m\u001b[0m\n\u001b[0m\u001b[1;32m     38\u001b[0m         \u001b[0mcons\u001b[0m \u001b[1;33m=\u001b[0m \u001b[0mnp\u001b[0m\u001b[1;33m.\u001b[0m\u001b[0mappend\u001b[0m\u001b[1;33m(\u001b[0m\u001b[0mcons\u001b[0m\u001b[1;33m,\u001b[0m \u001b[0mcon\u001b[0m\u001b[1;33m)\u001b[0m\u001b[1;33m\u001b[0m\u001b[0m\n\u001b[1;32m     39\u001b[0m \u001b[1;33m\u001b[0m\u001b[0m\n",
      "\u001b[0;31mIndexError\u001b[0m: index 431 is out of bounds for axis 1 with size 50"
     ]
    }
   ],
   "source": [
    "#contraints without minvar\n",
    "\n",
    "from scipy.optimize import minimize\n",
    "\n",
    "def port_dummy(w):\n",
    "    return 1\n",
    "\n",
    "ind_max=0.2\n",
    "co_max=0.2\n",
    "w_max=0.09\n",
    "\n",
    "dfd = pd.read_csv(dloc + '04_Deka_Europe_Multi_Factor_weights_capped.csv', sep=';')\n",
    "dfd['Date'] = pd.to_datetime(dfd['Date'], format='%Y-%m-%d', dayfirst=True)\n",
    "\n",
    "#dfd = dfd[dfd.Date=='2004-03-22'].copy()\n",
    "\n",
    "for d in dfd['Date'].drop_duplicates():\n",
    "\n",
    "    dx = str(d)[:10]\n",
    "    print(dx)\n",
    "\n",
    "    dfcomp = dfd[(dfd.Date==d) & -(dfd.weight.isnull())]\n",
    "    \n",
    "    n = len(dfcomp)\n",
    "    b_ = [(0., w_max) for i in range(n)]\n",
    "    \n",
    "    cons = np.array([])\n",
    "    cons = np.append(cons, {'type': 'eq', 'fun': lambda w: sum(w) - 1.})\n",
    "    \n",
    "    #industry constraints\n",
    "    #https://stackoverflow.com/questions/45491376/scipy-optimization-not-running-when-i-try-to-set-constraints-using-a-for-loop/45493887#45493887\n",
    "    industryidx=list()\n",
    "    for i in np.unique(list(dfcomp.ICB_ind)):\n",
    "        industryidx.append(dfcomp[dfcomp.ICB_ind==i]['isin'].index)\n",
    "    \n",
    "    for ind in range(len(industryidx)):\n",
    "        con ={'type':'ineq', 'fun': lambda w, ind=ind: sum(w[industryidx[ind]])-ind_max}\n",
    "        cons = np.append(cons, con)\n",
    "    \n",
    "    #country constraint\n",
    "    countryidx=list()\n",
    "    for co in np.unique(list(dfcomp.country)):\n",
    "        countryidx.append(dfcomp[dfcomp.country==co]['isin'].index)\n",
    "    \n",
    "    for cntry in range(len(countryidx)):\n",
    "        con ={'type':'ineq', 'fun': lambda w, cntry=cntry: sum(w[countryidx[cntry]])-co_max}\n",
    "        cons = np.append(cons, con)\n",
    "\n",
    "    #w0 = np.ones(n) / n\n",
    "    w0 = np.array(dfcomp['weight'])\n",
    "    \n",
    "    optiwgts = minimize(port_dummy, w0, method='SLSQP', bounds=b_, constraints=cons)\n",
    "    \n",
    "    dfcomp['weight_optimised'] = optiwgts.x\n",
    "    \n",
    "\n",
    "#pd.DataFrame(returns).to_csv(dloc + 'minvar/returns.csv',sep=';')\n",
    "print('done')"
   ]
  },
  {
   "cell_type": "code",
   "execution_count": 55,
   "metadata": {
    "collapsed": false,
    "scrolled": true
   },
   "outputs": [
    {
     "data": {
      "text/plain": [
       "array([ 0.04555187,  0.04417701,  0.04342535,  0.03604401,  0.0357696 ,\n",
       "        0.0337947 ,  0.03330377,  0.03088201,  0.03055279,  0.02748119,\n",
       "        0.02729471,  0.02670535,  0.02586832,  0.02428886,  0.02262121,\n",
       "        0.02097435,  0.02092941,  0.0201605 ,  0.01992575,  0.01980652,\n",
       "        0.01965915,  0.01938947,  0.01904182,  0.01798282,  0.01784621,\n",
       "        0.01714251,  0.01708038,  0.01642523,  0.01563161,  0.01516759,\n",
       "        0.0150602 ,  0.01471466,  0.01456803,  0.01387084,  0.01379278,\n",
       "        0.01377138,  0.01369307,  0.01318649,  0.01294381,  0.01292043,\n",
       "        0.01214693,  0.01149746,  0.01017082,  0.00983622,  0.00972269,\n",
       "        0.00926262,  0.00920746,  0.0084741 ,  0.0082594 ,  0.00797653])"
      ]
     },
     "execution_count": 55,
     "metadata": {},
     "output_type": "execute_result"
    }
   ],
   "source": [
    "w0"
   ]
  },
  {
   "cell_type": "code",
   "execution_count": 42,
   "metadata": {
    "collapsed": false
   },
   "outputs": [
    {
     "data": {
      "text/plain": [
       "array([ 0.05369207,  0.03519581,  0.02924817,  0.03711932,  0.03036789,\n",
       "        0.03012504,  0.03180763,  0.02991224,  0.02898952,  0.02845666,\n",
       "        0.02678522,  0.02323762,  0.02682057,  0.02707464,  0.02508096,\n",
       "        0.02312627,  0.02558789,  0.02575139,  0.02086904,  0.02214267,\n",
       "        0.0183745 ,  0.01580131,  0.01984332,  0.01755104,  0.02008496,\n",
       "        0.01451847,  0.01902986,  0.01904704,  0.01706343,  0.01765848,\n",
       "        0.01698136,  0.01346573,  0.01656187,  0.01410867,  0.0164613 ,\n",
       "        0.01622652,  0.01364815,  0.0134276 ,  0.01307026,  0.01153519,\n",
       "        0.00921611,  0.01279276,  0.00844995,  0.00721784,  0.01084075,\n",
       "        0.01033022,  0.00975968,  0.00745128,  0.00829785,  0.00979385])"
      ]
     },
     "execution_count": 42,
     "metadata": {},
     "output_type": "execute_result"
    }
   ],
   "source": [
    "optiwgts.x"
   ]
  },
  {
   "cell_type": "code",
   "execution_count": null,
   "metadata": {
    "collapsed": false
   },
   "outputs": [],
   "source": []
  },
  {
   "cell_type": "code",
   "execution_count": 44,
   "metadata": {
    "collapsed": false
   },
   "outputs": [
    {
     "data": {
      "text/plain": [
       "ICB_ind_name\n",
       "Technology            0.213468\n",
       "Financials            0.175085\n",
       "Industrials           0.154586\n",
       "Consumer Services     0.148805\n",
       "Basic Materials       0.121103\n",
       "Consumer Goods        0.092202\n",
       "Utilities             0.052627\n",
       "Telecommunications    0.028991\n",
       "Health Care           0.013133\n",
       "Name: weight, dtype: float64"
      ]
     },
     "execution_count": 44,
     "metadata": {},
     "output_type": "execute_result"
    }
   ],
   "source": [
    "dfcomp.groupby('ICB_ind_name').sum()['weight'].sort_values(ascending=False)"
   ]
  },
  {
   "cell_type": "code",
   "execution_count": 45,
   "metadata": {
    "collapsed": false
   },
   "outputs": [
    {
     "data": {
      "text/plain": [
       "ICB_ind_name\n",
       "Technology            0.200000\n",
       "Financials            0.175497\n",
       "Industrials           0.155338\n",
       "Consumer Services     0.149653\n",
       "Basic Materials       0.122410\n",
       "Consumer Goods        0.093986\n",
       "Utilities             0.055067\n",
       "Telecommunications    0.031823\n",
       "Health Care           0.016227\n",
       "Name: weight_optimised, dtype: float64"
      ]
     },
     "execution_count": 45,
     "metadata": {},
     "output_type": "execute_result"
    }
   ],
   "source": [
    "dfcomp.groupby('ICB_ind_name').sum()['weight_optimised'].sort_values(ascending=False)"
   ]
  },
  {
   "cell_type": "code",
   "execution_count": 46,
   "metadata": {
    "collapsed": false
   },
   "outputs": [
    {
     "data": {
      "text/plain": [
       "country\n",
       "DE    0.261225\n",
       "FR    0.187235\n",
       "NL    0.122956\n",
       "FI    0.065752\n",
       "IT    0.057031\n",
       "CH    0.055619\n",
       "GB    0.054515\n",
       "DK    0.043255\n",
       "SE    0.041957\n",
       "NO    0.034668\n",
       "GR    0.034377\n",
       "ES    0.028037\n",
       "BE    0.013371\n",
       "Name: weight, dtype: float64"
      ]
     },
     "execution_count": 46,
     "metadata": {},
     "output_type": "execute_result"
    }
   ],
   "source": [
    "dfcomp.groupby('country').sum()['weight'].sort_values(ascending=False)"
   ]
  },
  {
   "cell_type": "code",
   "execution_count": 51,
   "metadata": {
    "collapsed": false
   },
   "outputs": [
    {
     "data": {
      "text/plain": [
       "country\n",
       "DE    0.233721\n",
       "FR    0.187447\n",
       "NL    0.124232\n",
       "FI    0.067975\n",
       "IT    0.059398\n",
       "CH    0.058009\n",
       "GB    0.056923\n",
       "DK    0.045850\n",
       "SE    0.044574\n",
       "NO    0.037405\n",
       "GR    0.037119\n",
       "ES    0.030884\n",
       "BE    0.016461\n",
       "Name: weight_optimised, dtype: float64"
      ]
     },
     "execution_count": 51,
     "metadata": {},
     "output_type": "execute_result"
    }
   ],
   "source": [
    "dfcomp.groupby('country').sum()['weight_optimised'].sort_values(ascending=False)"
   ]
  },
  {
   "cell_type": "code",
   "execution_count": null,
   "metadata": {
    "collapsed": false
   },
   "outputs": [],
   "source": []
  },
  {
   "cell_type": "code",
   "execution_count": null,
   "metadata": {
    "collapsed": true
   },
   "outputs": [],
   "source": []
  }
 ],
 "metadata": {
  "anaconda-cloud": {},
  "kernelspec": {
   "display_name": "Python [default]",
   "language": "python",
   "name": "python3"
  },
  "language_info": {
   "codemirror_mode": {
    "name": "ipython",
    "version": 3
   },
   "file_extension": ".py",
   "mimetype": "text/x-python",
   "name": "python",
   "nbconvert_exporter": "python",
   "pygments_lexer": "ipython3",
   "version": "3.5.2"
  }
 },
 "nbformat": 4,
 "nbformat_minor": 1
}
